{
 "cells": [
  {
   "cell_type": "code",
   "execution_count": 1,
   "metadata": {},
   "outputs": [],
   "source": [
    "import json\n",
    "from pathlib import Path\n",
    "\n",
    "import albumentations as A\n",
    "import cv2\n",
    "import matplotlib.pyplot as plt\n",
    "import numpy as np\n",
    "import pandas as pd\n",
    "from PIL import Image"
   ]
  },
  {
   "cell_type": "code",
   "execution_count": 2,
   "metadata": {},
   "outputs": [],
   "source": [
    "# width or x - горизонталь\n",
    "# height or y - вертикаль\n",
    "# Each row is - class x_center y_center width height format.\n",
    "# Box coordinates must be in normalized xywh format (from 0 - 1). If your boxes are in pixels, divide x_center and width by image width, and y_center and height by image height.\n",
    "# Class numbers are zero-indexed (start from 0).\n",
    "# пример строки в файле .txt - '45 0.479492 0.688771 0.955609 0.5955\\n'"
   ]
  },
  {
   "cell_type": "code",
   "execution_count": 9,
   "metadata": {},
   "outputs": [
    {
     "ename": "IndexError",
     "evalue": "list index out of range",
     "output_type": "error",
     "traceback": [
      "\u001b[0;31m---------------------------------------------------------------------------\u001b[0m",
      "\u001b[0;31mIndexError\u001b[0m                                Traceback (most recent call last)",
      "Cell \u001b[0;32mIn [9], line 11\u001b[0m\n\u001b[1;32m      7\u001b[0m     \u001b[38;5;28;01mreturn\u001b[39;00m \u001b[38;5;28msorted\u001b[39m(Path(files_dir)\u001b[38;5;241m.\u001b[39mglob(\u001b[38;5;124mf\u001b[39m\u001b[38;5;124m'\u001b[39m\u001b[38;5;124m*.\u001b[39m\u001b[38;5;132;01m{\u001b[39;00msuff\u001b[38;5;132;01m}\u001b[39;00m\u001b[38;5;124m'\u001b[39m))\n\u001b[1;32m      9\u001b[0m labels \u001b[38;5;241m=\u001b[39m get_files(labels_dir)\n\u001b[0;32m---> 11\u001b[0m \u001b[38;5;28;01mwith\u001b[39;00m \u001b[38;5;28mopen\u001b[39m(\u001b[43mlabels\u001b[49m\u001b[43m[\u001b[49m\u001b[38;5;241;43m4\u001b[39;49m\u001b[43m]\u001b[49m, \u001b[38;5;124m'\u001b[39m\u001b[38;5;124mr\u001b[39m\u001b[38;5;124m'\u001b[39m) \u001b[38;5;28;01mas\u001b[39;00m label:\n\u001b[1;32m     12\u001b[0m     data \u001b[38;5;241m=\u001b[39m label\u001b[38;5;241m.\u001b[39mreadlines()\n\u001b[1;32m     14\u001b[0m data\n",
      "\u001b[0;31mIndexError\u001b[0m: list index out of range"
     ]
    }
   ],
   "source": [
    "dir_1 = 'datasets/coco128/labels/train2017'\n",
    "dir_2 = '../train_dataset_train/labels/'\n",
    "\n",
    "labels_dir = Path(dir_2)\n",
    "\n",
    "def get_files(files_dir: Path, suff: str = 'txt') -> list[Path]:\n",
    "    return sorted(Path(files_dir).glob(f'*.{suff}'))\n",
    "\n",
    "labels = get_files(labels_dir)\n",
    "\n",
    "with open(labels[4], 'r') as label:\n",
    "    data = label.readlines()\n",
    "\n",
    "data"
   ]
  },
  {
   "cell_type": "markdown",
   "metadata": {},
   "source": [
    "# Преобразование координат объектов в формат yolo"
   ]
  },
  {
   "cell_type": "markdown",
   "metadata": {},
   "source": [
    "## Загрузка координат в pandas"
   ]
  },
  {
   "cell_type": "code",
   "execution_count": 3,
   "metadata": {},
   "outputs": [],
   "source": [
    "location_csv = Path('../train_dataset_train/train.csv')\n",
    "location_image = Path('../train_dataset_train/train')\n",
    "location_labels = Path('../train_dataset_train/labels')"
   ]
  },
  {
   "cell_type": "code",
   "execution_count": 4,
   "metadata": {},
   "outputs": [],
   "source": [
    "location = pd.read_csv(location_csv)"
   ]
  },
  {
   "cell_type": "code",
   "execution_count": 356,
   "metadata": {},
   "outputs": [],
   "source": [
    "location.insert(3, 'short_name', ['']*location.shape[0])"
   ]
  },
  {
   "cell_type": "code",
   "execution_count": 383,
   "metadata": {},
   "outputs": [],
   "source": [
    "def insert_short_name(x):    \n",
    "    x['short_name'] = str(x['ID_img']).split('.')[0]\n",
    "    return x"
   ]
  },
  {
   "cell_type": "code",
   "execution_count": 384,
   "metadata": {},
   "outputs": [],
   "source": [
    "location = location.apply(insert_short_name, axis=1)"
   ]
  },
  {
   "cell_type": "code",
   "execution_count": 385,
   "metadata": {},
   "outputs": [
    {
     "data": {
      "text/html": [
       "<div>\n",
       "<style scoped>\n",
       "    .dataframe tbody tr th:only-of-type {\n",
       "        vertical-align: middle;\n",
       "    }\n",
       "\n",
       "    .dataframe tbody tr th {\n",
       "        vertical-align: top;\n",
       "    }\n",
       "\n",
       "    .dataframe thead th {\n",
       "        text-align: right;\n",
       "    }\n",
       "</style>\n",
       "<table border=\"1\" class=\"dataframe\">\n",
       "  <thead>\n",
       "    <tr style=\"text-align: right;\">\n",
       "      <th></th>\n",
       "      <th>ID_img</th>\n",
       "      <th>count_region</th>\n",
       "      <th>region_shape</th>\n",
       "      <th>short_name</th>\n",
       "    </tr>\n",
       "  </thead>\n",
       "  <tbody>\n",
       "    <tr>\n",
       "      <th>0</th>\n",
       "      <td>3376.JPG</td>\n",
       "      <td>0.0</td>\n",
       "      <td>0.0</td>\n",
       "      <td>3376</td>\n",
       "    </tr>\n",
       "    <tr>\n",
       "      <th>1</th>\n",
       "      <td>3377.JPG</td>\n",
       "      <td>0.0</td>\n",
       "      <td>0.0</td>\n",
       "      <td>3377</td>\n",
       "    </tr>\n",
       "    <tr>\n",
       "      <th>2</th>\n",
       "      <td>3378.JPG</td>\n",
       "      <td>0.0</td>\n",
       "      <td>0.0</td>\n",
       "      <td>3378</td>\n",
       "    </tr>\n",
       "    <tr>\n",
       "      <th>3</th>\n",
       "      <td>3379.JPG</td>\n",
       "      <td>0.0</td>\n",
       "      <td>0.0</td>\n",
       "      <td>3379</td>\n",
       "    </tr>\n",
       "    <tr>\n",
       "      <th>4</th>\n",
       "      <td>3380.JPG</td>\n",
       "      <td>0.0</td>\n",
       "      <td>0.0</td>\n",
       "      <td>3380</td>\n",
       "    </tr>\n",
       "    <tr>\n",
       "      <th>...</th>\n",
       "      <td>...</td>\n",
       "      <td>...</td>\n",
       "      <td>...</td>\n",
       "      <td>...</td>\n",
       "    </tr>\n",
       "    <tr>\n",
       "      <th>5059</th>\n",
       "      <td>8435.JPG</td>\n",
       "      <td>0.0</td>\n",
       "      <td>0.0</td>\n",
       "      <td>8435</td>\n",
       "    </tr>\n",
       "    <tr>\n",
       "      <th>5060</th>\n",
       "      <td>8436.JPG</td>\n",
       "      <td>0.0</td>\n",
       "      <td>0.0</td>\n",
       "      <td>8436</td>\n",
       "    </tr>\n",
       "    <tr>\n",
       "      <th>5061</th>\n",
       "      <td>8437.JPG</td>\n",
       "      <td>0.0</td>\n",
       "      <td>0.0</td>\n",
       "      <td>8437</td>\n",
       "    </tr>\n",
       "    <tr>\n",
       "      <th>5062</th>\n",
       "      <td>8438.JPG</td>\n",
       "      <td>0.0</td>\n",
       "      <td>0.0</td>\n",
       "      <td>8438</td>\n",
       "    </tr>\n",
       "    <tr>\n",
       "      <th>5063</th>\n",
       "      <td>8439.JPG</td>\n",
       "      <td>0.0</td>\n",
       "      <td>0.0</td>\n",
       "      <td>8439</td>\n",
       "    </tr>\n",
       "  </tbody>\n",
       "</table>\n",
       "<p>5064 rows × 4 columns</p>\n",
       "</div>"
      ],
      "text/plain": [
       "        ID_img  count_region region_shape short_name\n",
       "0     3376.JPG           0.0          0.0       3376\n",
       "1     3377.JPG           0.0          0.0       3377\n",
       "2     3378.JPG           0.0          0.0       3378\n",
       "3     3379.JPG           0.0          0.0       3379\n",
       "4     3380.JPG           0.0          0.0       3380\n",
       "...        ...           ...          ...        ...\n",
       "5059  8435.JPG           0.0          0.0       8435\n",
       "5060  8436.JPG           0.0          0.0       8436\n",
       "5061  8437.JPG           0.0          0.0       8437\n",
       "5062  8438.JPG           0.0          0.0       8438\n",
       "5063  8439.JPG           0.0          0.0       8439\n",
       "\n",
       "[5064 rows x 4 columns]"
      ]
     },
     "execution_count": 385,
     "metadata": {},
     "output_type": "execute_result"
    }
   ],
   "source": [
    "location"
   ]
  },
  {
   "cell_type": "code",
   "execution_count": null,
   "metadata": {},
   "outputs": [],
   "source": [
    "location[location['region_shape'] != '0.0']"
   ]
  },
  {
   "cell_type": "code",
   "execution_count": 8,
   "metadata": {},
   "outputs": [],
   "source": [
    "def get_size(image_file: Path) -> tuple[int, int]:\n",
    "    forest_image = Image.open(image_file)\n",
    "    width, height = forest_image.size\n",
    "    return width, height"
   ]
  },
  {
   "cell_type": "code",
   "execution_count": 9,
   "metadata": {},
   "outputs": [],
   "source": [
    "def get_fraction(image_size: tuple[int, int], location: list[dict[str, int]]) -> list[list[float]]:\n",
    "    # location consist: \n",
    "    # ‘r’ - область внутри которой находиться человек\n",
    "    # ‘cx’ - центр окружности по координате x\n",
    "    # ‘cy’ - центр окружности по координате y\n",
    "    boxes = []\n",
    "    width, height = image_size\n",
    "    for box in location:        \n",
    "        center_x = str(box['cx'] / width)\n",
    "        center_y = str(box['cy'] / height)\n",
    "        box_width = str(box['r'] / width)\n",
    "        box_height = str(box['r'] / height)\n",
    "        boxes.append(['0', center_x, center_y, box_width, box_height])\n",
    "    return boxes\n"
   ]
  },
  {
   "cell_type": "code",
   "execution_count": 10,
   "metadata": {},
   "outputs": [],
   "source": [
    "def get_text(boxes: list[list[float]]) -> list[str]:\n",
    "    boxes_str = []\n",
    "    for location in boxes:\n",
    "        new_line = ' '.join(location) + '\\n'\n",
    "        boxes_str.append(new_line)\n",
    "    return boxes_str"
   ]
  },
  {
   "cell_type": "code",
   "execution_count": 11,
   "metadata": {},
   "outputs": [],
   "source": [
    "def write_txt(boxes: list[str], name: str) -> None:\n",
    "    txt_file = location_labels / f'{name}.txt'\n",
    "    with open(txt_file, 'w') as new_file:\n",
    "        for row in boxes:\n",
    "            new_file.write(row)"
   ]
  },
  {
   "cell_type": "code",
   "execution_count": 14,
   "metadata": {},
   "outputs": [],
   "source": [
    "def row_handler(row: pd.Series) -> None:\n",
    "    #print(type(row))\n",
    "    name, coord = row['ID_img'], row['region_shape']\n",
    "    short_name = name.split('.')[0]\n",
    "    boxes = json.loads(coord.replace(\"\\'\", \"\"))\n",
    "    image_file = location_image / name\n",
    "    size = get_size(image_file)\n",
    "    boxes = get_fraction(size, boxes)\n",
    "    boxes = get_text(boxes)\n",
    "    write_txt(boxes, short_name)\n",
    "    #print(boxes)"
   ]
  },
  {
   "cell_type": "markdown",
   "metadata": {},
   "source": [
    "image_file = Path('../train_dataset_train/train/3771.JPG')\n",
    "size = get_size(image_file)\n",
    "size"
   ]
  },
  {
   "cell_type": "markdown",
   "metadata": {},
   "source": [
    "coord = location.iloc[395]['region_shape']\n",
    "boxes = json.loads(coord.replace(\"\\'\", \"\"))\n",
    "boxes = get_fraction(size, boxes)\n",
    "boxes = get_text(boxes)\n",
    "boxes"
   ]
  },
  {
   "cell_type": "code",
   "execution_count": null,
   "metadata": {},
   "outputs": [],
   "source": [
    "# исключаем строки где нет людей и преобразуем координаты в текстовый файл\n",
    "location[location['region_shape'] != '0.0'].apply(row_handler, axis=1)"
   ]
  },
  {
   "cell_type": "markdown",
   "metadata": {},
   "source": [
    "# Аугументация датасета"
   ]
  },
  {
   "cell_type": "code",
   "execution_count": 273,
   "metadata": {},
   "outputs": [],
   "source": [
    "aug_dir = Path('../train_dataset_train/augumentation')\n",
    "aug_size = 256"
   ]
  },
  {
   "cell_type": "code",
   "execution_count": 274,
   "metadata": {},
   "outputs": [],
   "source": [
    "labels_list = get_files(location_labels)"
   ]
  },
  {
   "cell_type": "code",
   "execution_count": 275,
   "metadata": {},
   "outputs": [],
   "source": [
    "transform_person = A.Compose(\n",
    "    [A.RandomSizedBBoxSafeCrop(width=aug_size, height=aug_size, erosion_rate=0.9)],\n",
    "    bbox_params=A.BboxParams(format='yolo', label_fields=['class_labels']),\n",
    ")"
   ]
  },
  {
   "cell_type": "code",
   "execution_count": 276,
   "metadata": {},
   "outputs": [],
   "source": [
    "transform_area = A.Compose([\n",
    "    A.RandomCrop(width=aug_size, height=aug_size),\n",
    "    A.HorizontalFlip(p=0.5),\n",
    "    A.RandomBrightnessContrast(p=0.2),\n",
    "], bbox_params=A.BboxParams(format='yolo', min_visibility=0.2, label_fields=['class_labels']))"
   ]
  },
  {
   "cell_type": "code",
   "execution_count": 291,
   "metadata": {},
   "outputs": [],
   "source": [
    "def transformer_person(image, bboxes, class_labels):\n",
    "    transformed = transform_person(image=image, bboxes=bboxes, class_labels=class_labels)\n",
    "    transformed_image = transformed['image']\n",
    "    transformed_bboxes = transformed['bboxes']\n",
    "    transformed_class_labels = transformed['class_labels']    \n",
    "    return transformed_image, transformed_bboxes"
   ]
  },
  {
   "cell_type": "code",
   "execution_count": 288,
   "metadata": {},
   "outputs": [],
   "source": [
    "def transformer_area(image, bboxes, class_labels):\n",
    "    transformed = transform_area(image=image, bboxes=bboxes, class_labels=class_labels)\n",
    "    transformed_image = transformed['image']\n",
    "    transformed_bboxes = transformed['bboxes']\n",
    "    transformed_class_labels = transformed['class_labels']    \n",
    "    return transformed_image, transformed_bboxes"
   ]
  },
  {
   "cell_type": "code",
   "execution_count": 280,
   "metadata": {},
   "outputs": [],
   "source": [
    "def read_boxes(label_path: Path) -> list[str]:\n",
    "    with open(label_path, 'r') as label:\n",
    "        label_list = label.readlines()\n",
    "    return label_list"
   ]
  },
  {
   "cell_type": "code",
   "execution_count": 281,
   "metadata": {},
   "outputs": [],
   "source": [
    "def get_image(image_path: Path):\n",
    "    #image = Image.open(image_path)\n",
    "    image = cv2.imread(str(image_path))\n",
    "    image = cv2.cvtColor(image, cv2.COLOR_BGR2RGB)\n",
    "    return image"
   ]
  },
  {
   "cell_type": "code",
   "execution_count": 282,
   "metadata": {},
   "outputs": [],
   "source": [
    "def get_boxes(label_path: Path) -> tuple[list[float], list[str]]:\n",
    "    boxes = read_boxes(label_path)\n",
    "    boxes_list = []\n",
    "    labels = []\n",
    "    for box in boxes:\n",
    "        box = box.replace('\\n', '')\n",
    "        box = box.split(' ')\n",
    "        # срезаем до 8 знаков после запятой\n",
    "        bbox = [float(x[:11]) for x in box[1:]]\n",
    "        boxes_list.append(bbox)\n",
    "        labels.append(box[0])\n",
    "    return boxes_list, labels"
   ]
  },
  {
   "cell_type": "code",
   "execution_count": 393,
   "metadata": {},
   "outputs": [],
   "source": [
    "def save_image(image, name: str) -> None:\n",
    "    image_path = aug_dir / 'images' / f'{name}.jpg'\n",
    "    cv2.imwrite(str(image_path), image)"
   ]
  },
  {
   "cell_type": "code",
   "execution_count": 394,
   "metadata": {},
   "outputs": [],
   "source": [
    "def write_txt(boxes: list[str], name: str) -> None:\n",
    "    txt_file = aug_dir / 'labels' / f'{name}.txt'\n",
    "    with open(txt_file, 'w') as new_file:\n",
    "        for row in boxes:\n",
    "            new_file.write(row)"
   ]
  },
  {
   "cell_type": "code",
   "execution_count": 395,
   "metadata": {},
   "outputs": [],
   "source": [
    "def save_label(boxes: list, name: str) -> None:\n",
    "    rows = []\n",
    "    for box in boxes:\n",
    "        row = ' '.join([f'{x}' for x in box])\n",
    "        row = '0 ' + row + '\\n'\n",
    "        rows.append(row)\n",
    "    write_txt(rows, name)\n",
    "        "
   ]
  },
  {
   "cell_type": "code",
   "execution_count": 341,
   "metadata": {},
   "outputs": [],
   "source": [
    "def show_image(image, mask):\n",
    "    if len(mask) > 0:\n",
    "        fig, axes = plt.subplots(nrows=1, ncols=2, figsize=(25,25))\n",
    "        axes[0].imshow(image)\n",
    "        #axes[1].imshow(mask[..., 0])\n",
    "        plt.show"
   ]
  },
  {
   "cell_type": "code",
   "execution_count": 336,
   "metadata": {},
   "outputs": [],
   "source": [
    "BOX_COLOR = (255, 0, 0) # Red\n",
    "TEXT_COLOR = (255, 255, 255) # White\n",
    "\n",
    "def visualize_bbox(img, bbox, class_name, color=(250,0,0), thickness=1):\n",
    "    \"\"\"Visualizes a single bounding box on the image\"\"\"\n",
    "    print(img.shape)\n",
    "    x_c, y_min, w, h = bbox\n",
    "    x_min, x_max, y_min, y_max = int(x_c*256-(w*256)), int(x_c*256 + (w*256)), int(y_min*256-(h*256)), int(y_min*256 + (h*256))\n",
    "   \n",
    "    cv2.rectangle(img, (x_min, y_min), (x_max, y_max), color=color, thickness=thickness)\n",
    "    \n",
    "    ((text_width, text_height), _) = cv2.getTextSize(class_name, cv2.FONT_HERSHEY_SIMPLEX, 0.25, 1)    \n",
    "    cv2.rectangle(img, (x_min, y_min - int(1.3 * text_height)), (x_min + text_width, y_min), BOX_COLOR, -1)\n",
    "    cv2.putText(\n",
    "        img,\n",
    "        text=class_name,\n",
    "        org=(x_min, y_min - int(0.3 * text_height)),\n",
    "        fontFace=cv2.FONT_HERSHEY_SIMPLEX,\n",
    "        fontScale=0.35, \n",
    "        color=TEXT_COLOR, \n",
    "        lineType=cv2.LINE_AA,\n",
    "    )\n",
    "    return img\n",
    "\n",
    "def visualize(image, bboxes, category_ids=['0'], category_id_to_name={'0': 'person'}):\n",
    "    img = image.copy()\n",
    "    \n",
    "    for bbox, category_id in zip(bboxes, category_ids):\n",
    "        class_name = category_id_to_name[category_id]\n",
    "        img = visualize_bbox(img, bbox, class_name)\n",
    "    plt.figure(figsize=(12, 12))\n",
    "    plt.axis('off')\n",
    "    plt.imshow(img)"
   ]
  },
  {
   "cell_type": "code",
   "execution_count": 397,
   "metadata": {},
   "outputs": [],
   "source": [
    "def start_aug():\n",
    "    for label_file in labels_list:\n",
    "        short_name = label_file.stem\n",
    "        image_name = location[location['short_name']==short_name]['ID_img'].values[0]\n",
    "        image_path = location_image / image_name\n",
    "        image = get_image(image_path)\n",
    "        bboxes, class_labels = get_boxes(label_file)\n",
    "        \n",
    "        for num in range(5):\n",
    "            name = f'{short_name}p{num}'\n",
    "            new_image, new_bboxes = transformer_person(image, bboxes, class_labels)\n",
    "            #print(bboxes, new_bboxes)\n",
    "            category_ids = ['0']* len(new_bboxes)\n",
    "            #visualize(new_image, new_bboxes, category_ids)\n",
    "            save_image(new_image, name)\n",
    "            save_label(new_bboxes, name)\n",
    "            \n",
    "        for num in range(5):\n",
    "            name = f'{short_name}a{num}'\n",
    "            new_image, new_bboxes = transformer_area(image, bboxes, class_labels)\n",
    "            category_ids = ['0'] * len(new_bboxes)\n",
    "            #visualize(new_image, new_bboxes, category_ids)\n",
    "            save_image(new_image, name)\n",
    "            if len(new_bboxes) > 0:\n",
    "                save_label(new_bboxes, name)\n",
    "            \n",
    "        break"
   ]
  },
  {
   "cell_type": "code",
   "execution_count": 398,
   "metadata": {},
   "outputs": [],
   "source": [
    "start_aug()"
   ]
  },
  {
   "cell_type": "code",
   "execution_count": 389,
   "metadata": {},
   "outputs": [
    {
     "data": {
      "text/plain": [
       "'3771.JPG'"
      ]
     },
     "execution_count": 389,
     "metadata": {},
     "output_type": "execute_result"
    }
   ],
   "source": [
    "location[location['short_name']=='3771']['ID_img'].values[0]"
   ]
  },
  {
   "cell_type": "code",
   "execution_count": null,
   "metadata": {},
   "outputs": [],
   "source": []
  }
 ],
 "metadata": {
  "kernelspec": {
   "display_name": "Python 3 (ipykernel)",
   "language": "python",
   "name": "python3"
  },
  "language_info": {
   "codemirror_mode": {
    "name": "ipython",
    "version": 3
   },
   "file_extension": ".py",
   "mimetype": "text/x-python",
   "name": "python",
   "nbconvert_exporter": "python",
   "pygments_lexer": "ipython3",
   "version": "3.10.0"
  },
  "vscode": {
   "interpreter": {
    "hash": "bae4d6eca03054da3c74e7f51f87f340bf34a5355b1b767808a768c0c8aa4aa3"
   }
  }
 },
 "nbformat": 4,
 "nbformat_minor": 2
}
