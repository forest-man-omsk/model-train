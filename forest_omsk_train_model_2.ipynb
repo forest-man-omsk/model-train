{
  "cells": [
    {
      "cell_type": "code",
      "execution_count": null,
      "metadata": {
        "colab": {
          "base_uri": "https://localhost:8080/"
        },
        "id": "N66TvaZfu_dW",
        "outputId": "c9f20746-9f53-4f24-df30-5f992ac1709d"
      },
      "outputs": [],
      "source": [
        "# mount it\n",
        "from google.colab import drive\n",
        "drive.mount('/content/drive')"
      ]
    },
    {
      "cell_type": "code",
      "execution_count": 4,
      "metadata": {
        "colab": {
          "base_uri": "https://localhost:8080/"
        },
        "id": "wiQ0p8vJn8CJ",
        "outputId": "9e6ce73c-607e-4345-f364-5bc93f7d2a6e"
      },
      "outputs": [
        {
          "name": "stdout",
          "output_type": "stream",
          "text": [
            "Traceback (most recent call last):\n",
            "  File \"/home/zorkin/Yandex.Disk/Обучение/Hackathon/omsk_chempionat/model-train/ya.py\", line 19, in <module>\n",
            "    json_res = json.loads(res)\n",
            "  File \"/home/zorkin/.pyenv/versions/3.10.0/lib/python3.10/json/__init__.py\", line 346, in loads\n",
            "    return _default_decoder.decode(s)\n",
            "  File \"/home/zorkin/.pyenv/versions/3.10.0/lib/python3.10/json/decoder.py\", line 337, in decode\n",
            "    obj, end = self.raw_decode(s, idx=_w(s, 0).end())\n",
            "  File \"/home/zorkin/.pyenv/versions/3.10.0/lib/python3.10/json/decoder.py\", line 355, in raw_decode\n",
            "    raise JSONDecodeError(\"Expecting value\", s, err.value) from None\n",
            "json.decoder.JSONDecodeError: Expecting value: line 1 column 1 (char 0)\n"
          ]
        }
      ],
      "source": [
        "#!wget https://gist.githubusercontent.com/Yegorov/dc61c42aa4e89e139cd8248f59af6b3e/raw/20ac954e202fe6a038c2b4bb476703c02fe0df87/ya.py\n",
        "#!chmod +x ya.py\n",
        "!python ya.py https://disk.yandex.ru/d/481aq0zVzdo6iw ./"
      ]
    },
    {
      "cell_type": "code",
      "execution_count": null,
      "metadata": {
        "colab": {
          "base_uri": "https://localhost:8080/"
        },
        "id": "AJIrySSBok6d",
        "outputId": "f689b261-edf1-4df8-c999-a6a2e43d1269"
      },
      "outputs": [],
      "source": [
        "!unzip train_dataset_train.zip"
      ]
    },
    {
      "cell_type": "code",
      "execution_count": null,
      "metadata": {
        "id": "6lEf2bwzpuYH"
      },
      "outputs": [],
      "source": [
        "!rm train_dataset_train.zip"
      ]
    },
    {
      "cell_type": "code",
      "execution_count": 5,
      "metadata": {
        "id": "MC_TQdZxqRKc"
      },
      "outputs": [],
      "source": [
        "!mkdir train/images train/labels augumentation augumentation/images augumentation/labels augumentation/images/train augumentation/images/test augumentation/labels/train augumentation/labels/test"
      ]
    },
    {
      "cell_type": "code",
      "execution_count": null,
      "metadata": {
        "colab": {
          "base_uri": "https://localhost:8080/"
        },
        "id": "mNcZ0tPUqBhg",
        "outputId": "11b0ce78-7fb2-4c56-fc78-d4509dfe6bc4"
      },
      "outputs": [],
      "source": [
        "!ls train"
      ]
    },
    {
      "cell_type": "code",
      "execution_count": 7,
      "metadata": {
        "id": "cwbF19g0lJGe"
      },
      "outputs": [],
      "source": [
        "import json\n",
        "from pathlib import Path\n",
        "\n",
        "import albumentations as A\n",
        "import cv2\n",
        "import matplotlib.pyplot as plt\n",
        "import numpy as np\n",
        "import pandas as pd\n",
        "from PIL import Image"
      ]
    },
    {
      "cell_type": "code",
      "execution_count": null,
      "metadata": {
        "id": "x8CNeRYTlJGn"
      },
      "outputs": [],
      "source": [
        "# width or x - горизонталь\n",
        "# height or y - вертикаль\n",
        "# Each row is - class x_center y_center width height format.\n",
        "# Box coordinates must be in normalized xywh format (from 0 - 1). If your boxes are in pixels, divide x_center and width by image width, and y_center and height by image height.\n",
        "# Class numbers are zero-indexed (start from 0).\n",
        "# пример строки в файле .txt - '45 0.479492 0.688771 0.955609 0.5955\\n'"
      ]
    },
    {
      "cell_type": "code",
      "execution_count": 8,
      "metadata": {
        "id": "gogwUrvClJGp"
      },
      "outputs": [],
      "source": [
        "def get_files(files_dir: Path, suff: str = 'txt'):\n",
        "    return sorted(Path(files_dir).glob(f'*.{suff}'))\n"
      ]
    },
    {
      "cell_type": "markdown",
      "metadata": {
        "id": "xj51dSNJlJGq"
      },
      "source": [
        "# Преобразование координат объектов в формат yolo"
      ]
    },
    {
      "cell_type": "markdown",
      "metadata": {
        "id": "bLworaDNlJGt"
      },
      "source": [
        "## Загрузка координат в pandas"
      ]
    },
    {
      "cell_type": "code",
      "execution_count": 9,
      "metadata": {
        "id": "FCd5f_1wlJGu"
      },
      "outputs": [],
      "source": [
        "location_csv = Path('train.csv')\n",
        "location_image = Path('train/')\n",
        "location_labels = Path('train/labels')"
      ]
    },
    {
      "cell_type": "code",
      "execution_count": 10,
      "metadata": {
        "id": "ZM0n1a08lJGw"
      },
      "outputs": [],
      "source": [
        "location = pd.read_csv(location_csv)"
      ]
    },
    {
      "cell_type": "code",
      "execution_count": 11,
      "metadata": {
        "id": "okzCXsT2lJGy"
      },
      "outputs": [],
      "source": [
        "location.insert(3, 'short_name', ['']*location.shape[0])"
      ]
    },
    {
      "cell_type": "code",
      "execution_count": 12,
      "metadata": {
        "id": "s9-x3gHilJGz"
      },
      "outputs": [],
      "source": [
        "def insert_short_name(x):    \n",
        "    x['short_name'] = str(x['ID_img']).split('.')[0]\n",
        "    return x"
      ]
    },
    {
      "cell_type": "code",
      "execution_count": 13,
      "metadata": {
        "id": "TBGaxMRZlJG1"
      },
      "outputs": [],
      "source": [
        "location = location.apply(insert_short_name, axis=1)"
      ]
    },
    {
      "cell_type": "code",
      "execution_count": 14,
      "metadata": {
        "colab": {
          "base_uri": "https://localhost:8080/",
          "height": 143
        },
        "id": "5dizVqhglJG2",
        "outputId": "847f099c-8046-4cf2-f8d9-6666dd6a7b1c"
      },
      "outputs": [
        {
          "data": {
            "text/html": [
              "<div>\n",
              "<style scoped>\n",
              "    .dataframe tbody tr th:only-of-type {\n",
              "        vertical-align: middle;\n",
              "    }\n",
              "\n",
              "    .dataframe tbody tr th {\n",
              "        vertical-align: top;\n",
              "    }\n",
              "\n",
              "    .dataframe thead th {\n",
              "        text-align: right;\n",
              "    }\n",
              "</style>\n",
              "<table border=\"1\" class=\"dataframe\">\n",
              "  <thead>\n",
              "    <tr style=\"text-align: right;\">\n",
              "      <th></th>\n",
              "      <th>ID_img</th>\n",
              "      <th>count_region</th>\n",
              "      <th>region_shape</th>\n",
              "      <th>short_name</th>\n",
              "    </tr>\n",
              "  </thead>\n",
              "  <tbody>\n",
              "    <tr>\n",
              "      <th>0</th>\n",
              "      <td>3436.JPG</td>\n",
              "      <td>0.0</td>\n",
              "      <td>0.0</td>\n",
              "      <td>3436</td>\n",
              "    </tr>\n",
              "    <tr>\n",
              "      <th>1</th>\n",
              "      <td>3437.JPG</td>\n",
              "      <td>0.0</td>\n",
              "      <td>0.0</td>\n",
              "      <td>3437</td>\n",
              "    </tr>\n",
              "    <tr>\n",
              "      <th>2</th>\n",
              "      <td>3438.JPG</td>\n",
              "      <td>0.0</td>\n",
              "      <td>0.0</td>\n",
              "      <td>3438</td>\n",
              "    </tr>\n",
              "  </tbody>\n",
              "</table>\n",
              "</div>"
            ],
            "text/plain": [
              "     ID_img  count_region region_shape short_name\n",
              "0  3436.JPG           0.0          0.0       3436\n",
              "1  3437.JPG           0.0          0.0       3437\n",
              "2  3438.JPG           0.0          0.0       3438"
            ]
          },
          "execution_count": 14,
          "metadata": {},
          "output_type": "execute_result"
        }
      ],
      "source": [
        "location.head(3)"
      ]
    },
    {
      "cell_type": "code",
      "execution_count": 15,
      "metadata": {
        "colab": {
          "base_uri": "https://localhost:8080/",
          "height": 143
        },
        "id": "zIAPK91XlJG4",
        "outputId": "fe68d8a2-1ce8-4861-d165-a18de71759f0"
      },
      "outputs": [
        {
          "data": {
            "text/html": [
              "<div>\n",
              "<style scoped>\n",
              "    .dataframe tbody tr th:only-of-type {\n",
              "        vertical-align: middle;\n",
              "    }\n",
              "\n",
              "    .dataframe tbody tr th {\n",
              "        vertical-align: top;\n",
              "    }\n",
              "\n",
              "    .dataframe thead th {\n",
              "        text-align: right;\n",
              "    }\n",
              "</style>\n",
              "<table border=\"1\" class=\"dataframe\">\n",
              "  <thead>\n",
              "    <tr style=\"text-align: right;\">\n",
              "      <th></th>\n",
              "      <th>ID_img</th>\n",
              "      <th>count_region</th>\n",
              "      <th>region_shape</th>\n",
              "      <th>short_name</th>\n",
              "    </tr>\n",
              "  </thead>\n",
              "  <tbody>\n",
              "    <tr>\n",
              "      <th>8</th>\n",
              "      <td>3444.jpg</td>\n",
              "      <td>1.0</td>\n",
              "      <td>['{\"cx\":2259,\"cy\":391,\"r\":64}']</td>\n",
              "      <td>3444</td>\n",
              "    </tr>\n",
              "    <tr>\n",
              "      <th>217</th>\n",
              "      <td>3653.JPG</td>\n",
              "      <td>1.0</td>\n",
              "      <td>['{\"cx\":2719,\"cy\":2097,\"r\":75}']</td>\n",
              "      <td>3653</td>\n",
              "    </tr>\n",
              "    <tr>\n",
              "      <th>254</th>\n",
              "      <td>3690.JPG</td>\n",
              "      <td>1.0</td>\n",
              "      <td>['{\"cx\":2914,\"cy\":1693,\"r\":90}']</td>\n",
              "      <td>3690</td>\n",
              "    </tr>\n",
              "  </tbody>\n",
              "</table>\n",
              "</div>"
            ],
            "text/plain": [
              "       ID_img  count_region                      region_shape short_name\n",
              "8    3444.jpg           1.0   ['{\"cx\":2259,\"cy\":391,\"r\":64}']       3444\n",
              "217  3653.JPG           1.0  ['{\"cx\":2719,\"cy\":2097,\"r\":75}']       3653\n",
              "254  3690.JPG           1.0  ['{\"cx\":2914,\"cy\":1693,\"r\":90}']       3690"
            ]
          },
          "execution_count": 15,
          "metadata": {},
          "output_type": "execute_result"
        }
      ],
      "source": [
        "location[location['region_shape'] != '0.0'].head(3)"
      ]
    },
    {
      "cell_type": "code",
      "execution_count": 16,
      "metadata": {
        "id": "sQXA_0GplJG5"
      },
      "outputs": [],
      "source": [
        "def get_size(image_file: Path):\n",
        "    forest_image = Image.open(image_file)\n",
        "    width, height = forest_image.size\n",
        "    return width, height"
      ]
    },
    {
      "cell_type": "code",
      "execution_count": 17,
      "metadata": {
        "id": "_EJZppxnlJG5"
      },
      "outputs": [],
      "source": [
        "def get_fraction(image_size, location):\n",
        "    # location consist: \n",
        "    # ‘r’ - область внутри которой находиться человек\n",
        "    # ‘cx’ - центр окружности по координате x\n",
        "    # ‘cy’ - центр окружности по координате y\n",
        "    boxes = []\n",
        "    width, height = image_size\n",
        "    for box in location:        \n",
        "        center_x = str(box['cx'] / width)\n",
        "        center_y = str(box['cy'] / height)\n",
        "        box_width = str(box['r'] / width)\n",
        "        box_height = str(box['r'] / height)\n",
        "        boxes.append(['0', center_x, center_y, box_width, box_height])\n",
        "    return boxes\n"
      ]
    },
    {
      "cell_type": "code",
      "execution_count": 18,
      "metadata": {
        "id": "ikbW4gAslJG7"
      },
      "outputs": [],
      "source": [
        "def get_text(boxes):\n",
        "    boxes_str = []\n",
        "    for location in boxes:\n",
        "        new_line = ' '.join(location) + '\\n'\n",
        "        boxes_str.append(new_line)\n",
        "    return boxes_str"
      ]
    },
    {
      "cell_type": "code",
      "execution_count": 19,
      "metadata": {
        "id": "Mxl9H-xqlJG8"
      },
      "outputs": [],
      "source": [
        "def write_txt(boxes, name):\n",
        "    txt_file = location_labels / f'{name}.txt'\n",
        "    with open(txt_file, 'w') as new_file:\n",
        "        for row in boxes:\n",
        "            new_file.write(row)"
      ]
    },
    {
      "cell_type": "code",
      "execution_count": 20,
      "metadata": {
        "id": "J2pvUtLKlJG9"
      },
      "outputs": [],
      "source": [
        "def row_handler(row: pd.Series) -> None:\n",
        "    #print(type(row))\n",
        "    name, coord = row['ID_img'], row['region_shape']\n",
        "    short_name = name.split('.')[0]\n",
        "    boxes = json.loads(coord.replace(\"\\'\", \"\"))\n",
        "    image_file = location_image / name\n",
        "    size = get_size(image_file)\n",
        "    boxes = get_fraction(size, boxes)\n",
        "    boxes = get_text(boxes)\n",
        "    write_txt(boxes, short_name)\n",
        "    #print(boxes)"
      ]
    },
    {
      "cell_type": "markdown",
      "metadata": {
        "id": "kcLa0HEElJG-"
      },
      "source": [
        "image_file = Path('../train_dataset_train/train/3771.JPG')\n",
        "size = get_size(image_file)\n",
        "size"
      ]
    },
    {
      "cell_type": "markdown",
      "metadata": {
        "id": "9aE00g0NlJG_"
      },
      "source": [
        "coord = location.iloc[395]['region_shape']\n",
        "boxes = json.loads(coord.replace(\"\\'\", \"\"))\n",
        "boxes = get_fraction(size, boxes)\n",
        "boxes = get_text(boxes)\n",
        "boxes"
      ]
    },
    {
      "cell_type": "code",
      "execution_count": 21,
      "metadata": {
        "colab": {
          "base_uri": "https://localhost:8080/"
        },
        "id": "jm4-W6Y_lJHA",
        "outputId": "38bd43ef-4581-428e-c96c-abb9ba61d6cd"
      },
      "outputs": [
        {
          "data": {
            "text/plain": [
              "8      None\n",
              "217    None\n",
              "254    None\n",
              "dtype: object"
            ]
          },
          "execution_count": 21,
          "metadata": {},
          "output_type": "execute_result"
        }
      ],
      "source": [
        "# исключаем строки где нет людей и преобразуем координаты в текстовый файл\n",
        "short_df = location[location['region_shape'] != '0.0'].apply(row_handler, axis=1)\n",
        "short_df.head(3)"
      ]
    },
    {
      "cell_type": "code",
      "execution_count": 22,
      "metadata": {
        "colab": {
          "base_uri": "https://localhost:8080/"
        },
        "id": "Moqvi0K_sN62",
        "outputId": "4d3e2ff8-25e8-4af2-d2ef-3020b9ce9287"
      },
      "outputs": [
        {
          "name": "stdout",
          "output_type": "stream",
          "text": [
            "3444.txt  4465.txt  5277.txt  6153.txt\t6714.txt  7078.txt  8048.txt  8464.txt\n",
            "3653.txt  4604.txt  5314.txt  6219.txt\t6741.txt  7200.txt  8103.txt  8507.txt\n",
            "3690.txt  4780.txt  5478.txt  6221.txt\t6854.txt  7263.txt  8147.txt\n",
            "3835.txt  4871.txt  5680.txt  6233.txt\t6906.txt  7577.txt  8155.txt\n",
            "3947.txt  4888.txt  5824.txt  6368.txt\t6908.txt  7713.txt  8218.txt\n",
            "4153.txt  4934.txt  5956.txt  6478.txt\t6911.txt  7722.txt  8257.txt\n",
            "4269.txt  5065.txt  6105.txt  6561.txt\t7012.txt  7872.txt  8380.txt\n",
            "4291.txt  5191.txt  6146.txt  6684.txt\t7049.txt  8020.txt  8406.txt\n"
          ]
        }
      ],
      "source": [
        "!ls train/labels"
      ]
    },
    {
      "cell_type": "code",
      "execution_count": null,
      "metadata": {
        "id": "Tf2VkMa4J3tD"
      },
      "outputs": [],
      "source": []
    },
    {
      "cell_type": "markdown",
      "metadata": {
        "id": "C-sdQcKOlJHB"
      },
      "source": [
        "# Аугументация датасета"
      ]
    },
    {
      "cell_type": "code",
      "execution_count": 23,
      "metadata": {
        "id": "v0illtwFlJHC"
      },
      "outputs": [],
      "source": [
        "aug_dir = Path('augumentation')\n",
        "aug_size = 256\n",
        "person_num = 35\n",
        "area_num = 30"
      ]
    },
    {
      "cell_type": "code",
      "execution_count": 24,
      "metadata": {
        "id": "WdOCkjlElJHC"
      },
      "outputs": [],
      "source": [
        "labels_list = get_files(location_labels)"
      ]
    },
    {
      "cell_type": "code",
      "execution_count": 25,
      "metadata": {
        "id": "ybl6MubllJHE"
      },
      "outputs": [],
      "source": [
        "def transformer_person(image, bboxes, class_labels, size):\n",
        "    width, height = size\n",
        "    transform_person = A.Compose(\n",
        "        [A.RandomSizedBBoxSafeCrop(width=width, height=height, erosion_rate=0.3)],\n",
        "        bbox_params=A.BboxParams(format='yolo', label_fields=['class_labels']),\n",
        "    )\n",
        "    transformed = transform_person(image=image, bboxes=bboxes, class_labels=class_labels)\n",
        "    transformed_image = transformed['image']\n",
        "    transformed_bboxes = transformed['bboxes']\n",
        "    transformed_class_labels = transformed['class_labels']    \n",
        "    return transformed_image, transformed_bboxes"
      ]
    },
    {
      "cell_type": "code",
      "execution_count": 26,
      "metadata": {
        "id": "_MiRd-qMlJHF"
      },
      "outputs": [],
      "source": [
        "def transformer_area(image, bboxes, class_labels, size):\n",
        "    width, height = size\n",
        "    transform_area = A.Compose([\n",
        "        A.RandomCrop(width=aug_size, height=aug_size),\n",
        "        A.HorizontalFlip(p=0.5),\n",
        "        A.RandomBrightnessContrast(p=0.2),\n",
        "    ], bbox_params=A.BboxParams(format='yolo', min_visibility=0.2, label_fields=['class_labels']))\n",
        "    transformed = transform_area(image=image, bboxes=bboxes, class_labels=class_labels)\n",
        "    transformed_image = transformed['image']\n",
        "    transformed_bboxes = transformed['bboxes']\n",
        "    transformed_class_labels = transformed['class_labels']    \n",
        "    return transformed_image, transformed_bboxes"
      ]
    },
    {
      "cell_type": "code",
      "execution_count": 27,
      "metadata": {
        "id": "wsBAnA7MlJHF"
      },
      "outputs": [],
      "source": [
        "def read_boxes(label_path: Path):\n",
        "    with open(label_path, 'r') as label:\n",
        "        label_list = label.readlines()\n",
        "    return label_list"
      ]
    },
    {
      "cell_type": "code",
      "execution_count": 28,
      "metadata": {
        "id": "nrUj4BlKlJHG"
      },
      "outputs": [],
      "source": [
        "def get_image(image_path: Path):\n",
        "    #image = Image.open(image_path)\n",
        "    image = cv2.imread(str(image_path))\n",
        "    image = cv2.cvtColor(image, cv2.COLOR_BGR2RGB)\n",
        "    return image"
      ]
    },
    {
      "cell_type": "code",
      "execution_count": 29,
      "metadata": {
        "id": "aD6FAag7lJHG"
      },
      "outputs": [],
      "source": [
        "def get_boxes(label_path: Path):\n",
        "    boxes = read_boxes(label_path)\n",
        "    boxes_list = []\n",
        "    labels = []\n",
        "    for box in boxes:\n",
        "        box = box.replace('\\n', '')\n",
        "        box = box.split(' ')\n",
        "        # срезаем до 8 знаков после запятой\n",
        "        bbox = [float(x[:11]) for x in box[1:]]\n",
        "        boxes_list.append(bbox)\n",
        "        labels.append(box[0])\n",
        "    return boxes_list, labels"
      ]
    },
    {
      "cell_type": "code",
      "execution_count": 30,
      "metadata": {
        "id": "mJpkz0kblJHH"
      },
      "outputs": [],
      "source": [
        "def save_image(image, name: str) -> None:\n",
        "    image_path = aug_dir / 'images' / f'{name}.jpg'\n",
        "    cv2.imwrite(str(image_path), image)"
      ]
    },
    {
      "cell_type": "code",
      "execution_count": 31,
      "metadata": {
        "id": "tUPB9sKMlJHI"
      },
      "outputs": [],
      "source": [
        "def write_txt(boxes, name: str) -> None:\n",
        "    txt_file = aug_dir / 'labels' / f'{name}.txt'\n",
        "    with open(txt_file, 'w') as new_file:\n",
        "        for row in boxes:\n",
        "            new_file.write(row)"
      ]
    },
    {
      "cell_type": "code",
      "execution_count": 32,
      "metadata": {
        "id": "-pSIeHA4lJHI"
      },
      "outputs": [],
      "source": [
        "def save_label(boxes, name: str) -> None:\n",
        "    rows = []\n",
        "    for box in boxes:\n",
        "        row = ' '.join([f'{x}' for x in box])\n",
        "        row = '0 ' + row + '\\n'\n",
        "        rows.append(row)\n",
        "    write_txt(rows, name)\n",
        "        "
      ]
    },
    {
      "cell_type": "code",
      "execution_count": 33,
      "metadata": {
        "id": "PYmEhFl5lJHJ"
      },
      "outputs": [],
      "source": [
        "def show_image(image, mask):\n",
        "    if len(mask) > 0:\n",
        "        fig, axes = plt.subplots(nrows=1, ncols=2, figsize=(25,25))\n",
        "        axes[0].imshow(image)\n",
        "        #axes[1].imshow(mask[..., 0])\n",
        "        plt.show"
      ]
    },
    {
      "cell_type": "code",
      "execution_count": 34,
      "metadata": {
        "id": "rrpPYezHlJHJ"
      },
      "outputs": [],
      "source": [
        "BOX_COLOR = (255, 0, 0) # Red\n",
        "TEXT_COLOR = (255, 255, 255) # White\n",
        "\n",
        "def visualize_bbox(img, bbox, class_name, color=(250,0,0), thickness=1):\n",
        "    \"\"\"Visualizes a single bounding box on the image\"\"\"\n",
        "    print(img.shape)\n",
        "    x_c, y_min, w, h = bbox\n",
        "    x_min, x_max, y_min, y_max = int(x_c*256-(w*256)), int(x_c*256 + (w*256)), int(y_min*256-(h*256)), int(y_min*256 + (h*256))\n",
        "   \n",
        "    cv2.rectangle(img, (x_min, y_min), (x_max, y_max), color=color, thickness=thickness)\n",
        "    \n",
        "    ((text_width, text_height), _) = cv2.getTextSize(class_name, cv2.FONT_HERSHEY_SIMPLEX, 0.25, 1)    \n",
        "    cv2.rectangle(img, (x_min, y_min - int(1.3 * text_height)), (x_min + text_width, y_min), BOX_COLOR, -1)\n",
        "    cv2.putText(\n",
        "        img,\n",
        "        text=class_name,\n",
        "        org=(x_min, y_min - int(0.3 * text_height)),\n",
        "        fontFace=cv2.FONT_HERSHEY_SIMPLEX,\n",
        "        fontScale=0.35, \n",
        "        color=TEXT_COLOR, \n",
        "        lineType=cv2.LINE_AA,\n",
        "    )\n",
        "    return img\n",
        "\n",
        "def visualize(image, bboxes, category_ids=['0'], category_id_to_name={'0': 'person'}):\n",
        "    img = image.copy()\n",
        "    \n",
        "    for bbox, category_id in zip(bboxes, category_ids):\n",
        "        class_name = category_id_to_name[category_id]\n",
        "        img = visualize_bbox(img, bbox, class_name)\n",
        "    plt.figure(figsize=(12, 12))\n",
        "    plt.axis('off')\n",
        "    plt.imshow(img)"
      ]
    },
    {
      "cell_type": "code",
      "execution_count": 35,
      "metadata": {
        "id": "CiNBwgf-lJHK"
      },
      "outputs": [],
      "source": [
        "def get_size(image_file):    \n",
        "    image = Image.open(image_file)    \n",
        "    return image.size"
      ]
    },
    {
      "cell_type": "code",
      "execution_count": 36,
      "metadata": {
        "id": "Bzr-CeDElJHL"
      },
      "outputs": [],
      "source": [
        "def start_aug():\n",
        "    errors_box = 0\n",
        "    for numer, label_file in enumerate(labels_list):\n",
        "        short_name = label_file.stem\n",
        "        image_name = location[location['short_name']==short_name]['ID_img'].values[0]\n",
        "        image_path = location_image / image_name\n",
        "        image = get_image(image_path)\n",
        "        bboxes, class_labels = get_boxes(label_file)\n",
        "        size = get_size(image_path)\n",
        "        \n",
        "        for num in range(person_num):\n",
        "            name = f'{short_name}p{num}'\n",
        "            try:\n",
        "                new_image, new_bboxes = transformer_person(image, bboxes, class_labels, size)\n",
        "                #print(bboxes, new_bboxes)\n",
        "                category_ids = ['0']* len(new_bboxes)\n",
        "                #visualize(new_image, new_bboxes, category_ids)\n",
        "                save_image(new_image, name)\n",
        "                save_label(new_bboxes, name)\n",
        "            except:\n",
        "                errors_box += 1\n",
        "            \n",
        "        for num in range(area_num):\n",
        "            name = f'{short_name}a{num}'\n",
        "            try:\n",
        "                new_image, new_bboxes = transformer_area(image, bboxes, class_labels, size)\n",
        "                category_ids = ['0'] * len(new_bboxes)\n",
        "                #visualize(new_image, new_bboxes, category_ids)\n",
        "                save_image(new_image, name)\n",
        "                if len(new_bboxes) > 0:\n",
        "                    save_label(new_bboxes, name)\n",
        "            except:\n",
        "                errors_box += 1\n",
        "            \n",
        "        print(numer)\n",
        "    print(errors_box)"
      ]
    },
    {
      "cell_type": "code",
      "execution_count": 37,
      "metadata": {
        "colab": {
          "base_uri": "https://localhost:8080/"
        },
        "id": "LOfeGQ8ElJHM",
        "outputId": "432249aa-6f97-45e1-bd4e-2cd4a38bfcef"
      },
      "outputs": [
        {
          "name": "stdout",
          "output_type": "stream",
          "text": [
            "0\n",
            "1\n",
            "2\n",
            "3\n",
            "4\n",
            "5\n",
            "6\n",
            "7\n",
            "8\n",
            "9\n",
            "10\n",
            "11\n",
            "12\n",
            "13\n",
            "14\n",
            "15\n",
            "16\n",
            "17\n",
            "18\n",
            "19\n",
            "20\n",
            "21\n",
            "22\n",
            "23\n",
            "24\n",
            "25\n",
            "26\n",
            "27\n",
            "28\n",
            "29\n",
            "30\n",
            "31\n",
            "32\n",
            "33\n",
            "34\n",
            "35\n",
            "36\n",
            "37\n",
            "38\n",
            "39\n",
            "40\n",
            "41\n",
            "42\n",
            "43\n",
            "44\n",
            "45\n",
            "46\n",
            "47\n",
            "48\n",
            "49\n",
            "50\n",
            "51\n",
            "52\n",
            "53\n",
            "54\n",
            "55\n",
            "56\n",
            "57\n",
            "0\n"
          ]
        }
      ],
      "source": [
        "start_aug()"
      ]
    },
    {
      "cell_type": "code",
      "execution_count": 38,
      "metadata": {
        "colab": {
          "base_uri": "https://localhost:8080/"
        },
        "id": "pRvyRJBQKsp9",
        "outputId": "6e424f7e-ed10-421b-fbd6-8d6d76618424"
      },
      "outputs": [
        {
          "name": "stdout",
          "output_type": "stream",
          "text": [
            "augumentation  forest_baseline.ipynb\t\tREADME.md  ya.py\n",
            "convert.ipynb  forest_omsk_train_model_2.ipynb\ttrain\t   yolov5\n",
            "dataset        poetry.lock\t\t\ttrain.csv\n",
            "datasets       pyproject.toml\t\t\tvenv\n"
          ]
        }
      ],
      "source": [
        "!ls"
      ]
    },
    {
      "cell_type": "code",
      "execution_count": null,
      "metadata": {
        "id": "FdB3Y8GaKcdl"
      },
      "outputs": [],
      "source": [
        "!rm -r train"
      ]
    },
    {
      "cell_type": "code",
      "execution_count": 39,
      "metadata": {
        "colab": {
          "base_uri": "https://localhost:8080/"
        },
        "id": "xI-RXOo6KS2d",
        "outputId": "9520b4a3-fb68-46fd-ac59-d569028bc160"
      },
      "outputs": [
        {
          "name": "stdout",
          "output_type": "stream",
          "text": [
            "augumentation  forest_baseline.ipynb\t\tREADME.md  ya.py\n",
            "convert.ipynb  forest_omsk_train_model_2.ipynb\ttrain\t   yolov5\n",
            "dataset        poetry.lock\t\t\ttrain.csv\n",
            "datasets       pyproject.toml\t\t\tvenv\n"
          ]
        }
      ],
      "source": [
        "!ls"
      ]
    },
    {
      "cell_type": "code",
      "execution_count": 40,
      "metadata": {
        "colab": {
          "base_uri": "https://localhost:8080/"
        },
        "id": "yQmFmjcFKHlD",
        "outputId": "0fc2f72c-0331-4078-e0d3-5b12fc055542"
      },
      "outputs": [
        {
          "name": "stdout",
          "output_type": "stream",
          "text": [
            "/bin/bash: строка 1: zip: команда не найдена\n"
          ]
        }
      ],
      "source": [
        "!zip -r dataset.zip augumentation"
      ]
    },
    {
      "cell_type": "code",
      "execution_count": null,
      "metadata": {
        "colab": {
          "base_uri": "https://localhost:8080/"
        },
        "id": "NgAlGU4dPaCx",
        "outputId": "06002a91-f067-4d23-c6a2-d9d847728d31"
      },
      "outputs": [],
      "source": [
        "!ls"
      ]
    },
    {
      "cell_type": "code",
      "execution_count": null,
      "metadata": {
        "id": "HO3i-l9mhuHQ"
      },
      "outputs": [],
      "source": [
        "!rm -r augumentation"
      ]
    },
    {
      "cell_type": "code",
      "execution_count": null,
      "metadata": {
        "id": "W2vpBHzfkb5S"
      },
      "outputs": [],
      "source": [
        "!mkdir dataset\n",
        "!mv dataset.zip dataset/dataset.zip"
      ]
    },
    {
      "cell_type": "code",
      "execution_count": null,
      "metadata": {
        "colab": {
          "base_uri": "https://localhost:8080/"
        },
        "id": "YsBrYX2yk_U4",
        "outputId": "097eeaca-3d87-4a72-c0a5-78c7cd88dd04"
      },
      "outputs": [],
      "source": [
        "!ls dataset"
      ]
    },
    {
      "cell_type": "code",
      "execution_count": null,
      "metadata": {
        "id": "2VkjE_NZBMXq"
      },
      "outputs": [],
      "source": [
        "!cp -r dataset /content/drive/MyDrive/colab_export/omsk_forest/import/"
      ]
    },
    {
      "cell_type": "code",
      "execution_count": null,
      "metadata": {
        "colab": {
          "base_uri": "https://localhost:8080/"
        },
        "id": "EnwEllYWa3Mt",
        "outputId": "ec1703ba-355b-49f4-e752-2806b602af48"
      },
      "outputs": [],
      "source": [
        "%cd dataset"
      ]
    },
    {
      "cell_type": "code",
      "execution_count": null,
      "metadata": {
        "colab": {
          "base_uri": "https://localhost:8080/"
        },
        "id": "y4Vk8Sdma9aw",
        "outputId": "f575464b-4424-4b58-b474-e3f9596b0ae9"
      },
      "outputs": [],
      "source": [
        "!du -sh *"
      ]
    },
    {
      "cell_type": "code",
      "execution_count": null,
      "metadata": {
        "colab": {
          "base_uri": "https://localhost:8080/"
        },
        "id": "BS7J9qSEjcob",
        "outputId": "38ed4482-a731-4ffa-a17a-ac1c5189a1cb"
      },
      "outputs": [],
      "source": [
        "!ls /content/drive/MyDrive/colab_export/omsk_forest/import/dataset"
      ]
    },
    {
      "cell_type": "code",
      "execution_count": null,
      "metadata": {
        "id": "5ZYKNKpfQfzh"
      },
      "outputs": [],
      "source": [
        "!rm dataset.zip"
      ]
    },
    {
      "cell_type": "code",
      "execution_count": null,
      "metadata": {
        "colab": {
          "base_uri": "https://localhost:8080/"
        },
        "id": "QW8x-Kc0QEjB",
        "outputId": "ea2c4bc1-5204-4442-ff33-a5e2a646ed26"
      },
      "outputs": [],
      "source": [
        "!ls"
      ]
    },
    {
      "cell_type": "code",
      "execution_count": null,
      "metadata": {
        "id": "rHoyaNIYQBpB"
      },
      "outputs": [],
      "source": [
        "!rm -r augu"
      ]
    },
    {
      "cell_type": "code",
      "execution_count": null,
      "metadata": {
        "id": "-r-B1abyE5x6"
      },
      "outputs": [],
      "source": [
        "!mkdir train"
      ]
    },
    {
      "cell_type": "code",
      "execution_count": null,
      "metadata": {
        "colab": {
          "base_uri": "https://localhost:8080/"
        },
        "id": "QHN7DbLLFkH7",
        "outputId": "f9427679-5228-40cd-812d-b30264545661"
      },
      "outputs": [],
      "source": [
        "!ls"
      ]
    },
    {
      "cell_type": "markdown",
      "metadata": {
        "id": "u9uuw3NjTv0_"
      },
      "source": [
        "### Загрузка готового дасета для обучения"
      ]
    },
    {
      "cell_type": "code",
      "execution_count": null,
      "metadata": {
        "colab": {
          "base_uri": "https://localhost:8080/"
        },
        "id": "t5rhfQrtW-6I",
        "outputId": "4e518406-5e92-4200-cd22-3a238c8fcb91"
      },
      "outputs": [],
      "source": [
        "!ls /content/drive/MyDrive/colab_export/omsk_forest/import/"
      ]
    },
    {
      "cell_type": "code",
      "execution_count": null,
      "metadata": {
        "id": "Tm6CiP_RE1ha"
      },
      "outputs": [],
      "source": [
        "!cp /content/drive/MyDrive/colab_export/omsk_forest/import/dataset/dataset.zip dataset.zip"
      ]
    },
    {
      "cell_type": "code",
      "execution_count": null,
      "metadata": {
        "colab": {
          "base_uri": "https://localhost:8080/"
        },
        "id": "F5TDYfjYRh28",
        "outputId": "8a2064a7-6ff9-43e7-9f44-a530a2e51c9b"
      },
      "outputs": [],
      "source": [
        "!unzip dataset.zip"
      ]
    },
    {
      "cell_type": "markdown",
      "metadata": {
        "id": "ayn0EUnrlJHO"
      },
      "source": [
        "# Создание набора тестовых и тренироваочных даных\n"
      ]
    },
    {
      "cell_type": "code",
      "execution_count": null,
      "metadata": {
        "id": "9I0gvd9IlJHO"
      },
      "outputs": [],
      "source": [
        "crop_image = aug_dir / 'images'\n",
        "crop_labels = aug_dir / 'labels'"
      ]
    },
    {
      "cell_type": "code",
      "execution_count": null,
      "metadata": {
        "id": "j0ByXP_alJHO"
      },
      "outputs": [],
      "source": [
        "crop_image_list = get_files(crop_image, 'jpg')\n",
        "crop_labels_list = get_files(crop_labels)\n"
      ]
    },
    {
      "cell_type": "code",
      "execution_count": null,
      "metadata": {
        "id": "-GMf2LuOlJHP"
      },
      "outputs": [],
      "source": [
        "crop_labels_list = [Path(label_path).stem for label_path in crop_labels_list]\n",
        "#crop_labels_list"
      ]
    },
    {
      "cell_type": "code",
      "execution_count": null,
      "metadata": {
        "id": "Kg4HckPMlJHP"
      },
      "outputs": [],
      "source": [
        "dataset_df = pd.DataFrame(columns=['image', 'label', 'image_path', 'label_path'])"
      ]
    },
    {
      "cell_type": "code",
      "execution_count": null,
      "metadata": {
        "id": "C_47eIt4lJHQ"
      },
      "outputs": [],
      "source": [
        "dataset_df['image_path'] = crop_image_list"
      ]
    },
    {
      "cell_type": "code",
      "execution_count": null,
      "metadata": {
        "colab": {
          "base_uri": "https://localhost:8080/",
          "height": 143
        },
        "id": "Hdel4mo6lJHQ",
        "outputId": "a8a2e952-e90a-424b-e3d3-8343f47aa8d2"
      },
      "outputs": [],
      "source": [
        "dataset_df.head(3)"
      ]
    },
    {
      "cell_type": "code",
      "execution_count": null,
      "metadata": {
        "id": "lqH50WqFlJHQ"
      },
      "outputs": [],
      "source": [
        "def path_to_name(row: pd.Series) -> pd.Series:\n",
        "    image = Path(row['image_path'])\n",
        "    row['image'] = image.name\n",
        "    if image.stem in crop_labels_list:\n",
        "        row['label'] = f'{image.stem}.txt'\n",
        "        row['label_path'] = aug_dir / 'labels' /row['label']\n",
        "    return row"
      ]
    },
    {
      "cell_type": "code",
      "execution_count": null,
      "metadata": {
        "colab": {
          "base_uri": "https://localhost:8080/",
          "height": 424
        },
        "id": "ept_DjtNlJHR",
        "outputId": "377ced42-9672-4152-a253-f4b954489289"
      },
      "outputs": [],
      "source": [
        "dataset_df.apply(path_to_name, axis=1)"
      ]
    },
    {
      "cell_type": "code",
      "execution_count": null,
      "metadata": {
        "colab": {
          "base_uri": "https://localhost:8080/",
          "height": 143
        },
        "id": "-jg1EPFrlJHR",
        "outputId": "5e628bce-8a17-4d32-c98f-fdd0d9bc8ffd"
      },
      "outputs": [],
      "source": [
        "dataset_df.head(3)"
      ]
    },
    {
      "cell_type": "code",
      "execution_count": null,
      "metadata": {
        "id": "tvkc9VwvlJHS"
      },
      "outputs": [],
      "source": [
        "label_df = dataset_df[dataset_df['label'].notna()].copy()\n",
        "non_label_df = dataset_df[dataset_df['label'].isna()].copy()"
      ]
    },
    {
      "cell_type": "code",
      "execution_count": null,
      "metadata": {
        "colab": {
          "base_uri": "https://localhost:8080/",
          "height": 112
        },
        "id": "4V0qqzeklJHT",
        "outputId": "b113504a-62c5-4dbe-fbe6-d47c8674f068"
      },
      "outputs": [],
      "source": [
        "label_df.head(2)"
      ]
    },
    {
      "cell_type": "code",
      "execution_count": null,
      "metadata": {
        "colab": {
          "base_uri": "https://localhost:8080/"
        },
        "id": "pqqKGwFllJHT",
        "outputId": "37c88e60-256c-411b-c76d-04b21b643180"
      },
      "outputs": [],
      "source": [
        "dataset_df.shape[0] - label_df.shape[0] - non_label_df.shape[0]"
      ]
    },
    {
      "cell_type": "code",
      "execution_count": null,
      "metadata": {
        "id": "gK8sXIb2lJHU"
      },
      "outputs": [],
      "source": [
        "def train_validate_test_split(df: pd.DataFrame, train_percent: float = 0.6, validate_percent: float = 0.4, seed=None):\n",
        "    np.random.seed(seed)\n",
        "    perm = np.random.permutation(df.index)\n",
        "    m = len(df.index)\n",
        "    train_end = int(train_percent * m)\n",
        "    validate_end = int(validate_percent * m) + train_end\n",
        "    train = df.iloc[perm[:train_end]]\n",
        "    validate = df.iloc[perm[train_end:validate_end]]\n",
        "    test = df.iloc[perm[validate_end:]]\n",
        "    return train, validate, test"
      ]
    },
    {
      "cell_type": "code",
      "execution_count": null,
      "metadata": {
        "id": "t5a9m01IlJHU"
      },
      "outputs": [],
      "source": [
        "train_df_1, valid_df_1, _ = train_validate_test_split(label_df.reset_index(drop=True))"
      ]
    },
    {
      "cell_type": "code",
      "execution_count": null,
      "metadata": {
        "id": "IDThAMBTlJHV"
      },
      "outputs": [],
      "source": [
        "train_df_2, valid_df_2, _ = train_validate_test_split(non_label_df.reset_index(drop=True))"
      ]
    },
    {
      "cell_type": "code",
      "execution_count": null,
      "metadata": {
        "id": "hnPtzwvllJHV"
      },
      "outputs": [],
      "source": [
        "train_df = pd.concat([train_df_1, train_df_2])\n",
        "valid_df = pd.concat([valid_df_1, valid_df_2])"
      ]
    },
    {
      "cell_type": "code",
      "execution_count": null,
      "metadata": {
        "colab": {
          "base_uri": "https://localhost:8080/"
        },
        "id": "XvoCD4hUlJHW",
        "outputId": "c0d895bc-6523-4839-d694-0f34cfa53c72"
      },
      "outputs": [],
      "source": [
        "dataset_df.shape, valid_df.shape, train_df.shape"
      ]
    },
    {
      "cell_type": "code",
      "execution_count": null,
      "metadata": {
        "colab": {
          "base_uri": "https://localhost:8080/"
        },
        "id": "DRnqL-WmlJHW",
        "outputId": "5c111dc3-98a7-4eeb-ca66-aeee332c414f"
      },
      "outputs": [],
      "source": [
        "11595+17393"
      ]
    },
    {
      "cell_type": "code",
      "execution_count": null,
      "metadata": {
        "colab": {
          "base_uri": "https://localhost:8080/",
          "height": 468
        },
        "id": "cIBdWHDslJHX",
        "outputId": "6fd8c894-8ff3-44a7-c810-24ebd51b6cc7"
      },
      "outputs": [],
      "source": [
        "valid_df"
      ]
    },
    {
      "cell_type": "code",
      "execution_count": null,
      "metadata": {
        "id": "bAu9HcSWlJHX"
      },
      "outputs": [],
      "source": [
        "import shutil\n",
        "import os\n",
        "\n",
        "def move_file(short_name: str, target_dir: str) -> None:\n",
        "    image_file = aug_dir / 'images' / f'{short_name}.jpg'\n",
        "    new_image = aug_dir / 'images' / target_dir / f'{short_name}.jpg'\n",
        "    shutil.move(image_file, new_image)\n",
        "    \n",
        "    label_file = aug_dir / 'labels' / f'{short_name}.txt'\n",
        "    new_label = aug_dir / 'labels' / target_dir / f'{short_name}.txt'\n",
        "    print(label_file)\n",
        "    print(new_label)\n",
        "    print(label_file.is_file())\n",
        "    if label_file.is_file():\n",
        "        print('ok')\n",
        "        shutil.move(label_file, new_label)\n"
      ]
    },
    {
      "cell_type": "code",
      "execution_count": null,
      "metadata": {
        "id": "O6dDQBoXlJHY"
      },
      "outputs": [],
      "source": [
        "def move_handler(row, target_dir):\n",
        "    name = Path(row['image_path']).stem\n",
        "    move_file(str(name), target_dir)\n",
        "    return row"
      ]
    },
    {
      "cell_type": "code",
      "execution_count": null,
      "metadata": {
        "colab": {
          "base_uri": "https://localhost:8080/",
          "height": 1000
        },
        "id": "TZd1gHy9lJHY",
        "outputId": "7d0a9e4b-4249-49db-f15d-9df3b723b784"
      },
      "outputs": [],
      "source": [
        "valid_df.apply(move_handler, axis=1, args=('test',))"
      ]
    },
    {
      "cell_type": "code",
      "execution_count": null,
      "metadata": {
        "colab": {
          "base_uri": "https://localhost:8080/",
          "height": 1000
        },
        "id": "Jw_93xEglJHY",
        "outputId": "7631eeb5-9059-4493-c73f-f2eeb38d4387"
      },
      "outputs": [],
      "source": [
        "train_df.apply(move_handler, axis=1, args=('train',))"
      ]
    },
    {
      "cell_type": "code",
      "execution_count": null,
      "metadata": {
        "colab": {
          "base_uri": "https://localhost:8080/"
        },
        "id": "hQeejCmBlJHZ",
        "outputId": "4cc0def9-1029-4858-8431-a2a994268b59"
      },
      "outputs": [],
      "source": [
        "!ls augumentation/images"
      ]
    },
    {
      "cell_type": "markdown",
      "metadata": {
        "id": "ak9NQxlmuYi9"
      },
      "source": [
        "# Обучение модели"
      ]
    },
    {
      "cell_type": "code",
      "execution_count": null,
      "metadata": {
        "colab": {
          "base_uri": "https://localhost:8080/"
        },
        "id": "W69aDZ15udhT",
        "outputId": "7aa976c6-31ae-421b-df54-8a31630d5b61"
      },
      "outputs": [],
      "source": [
        "!git clone https://github.com/ultralytics/yolov5  # clone\n",
        "%cd yolov5\n",
        "!pip install -r requirements.txt  # install"
      ]
    },
    {
      "cell_type": "code",
      "execution_count": null,
      "metadata": {
        "colab": {
          "base_uri": "https://localhost:8080/"
        },
        "id": "8GaB8w5VyL05",
        "outputId": "9eea26be-e8db-4c0f-8485-4e13cc4016a7"
      },
      "outputs": [],
      "source": [
        "!ls data"
      ]
    },
    {
      "cell_type": "code",
      "execution_count": null,
      "metadata": {
        "id": "Vd88KxF8u4Sa"
      },
      "outputs": [],
      "source": [
        "!cp /content/drive/MyDrive/colab_export/omsk_forest/import/forest1.yaml data/forest.yaml"
      ]
    },
    {
      "cell_type": "code",
      "execution_count": null,
      "metadata": {
        "id": "VCjnzuL61Ebv"
      },
      "outputs": [],
      "source": [
        "!mkdir train train/images train/labels"
      ]
    },
    {
      "cell_type": "code",
      "execution_count": null,
      "metadata": {
        "id": "YB6YMrAc024v"
      },
      "outputs": [],
      "source": [
        "!mv /content/augumentation/images/train train/images\n",
        "!mv /content/augumentation/images/test train/images\n",
        "!mv /content/augumentation/labels/train/ train/labels\n",
        "!mv /content/augumentation/labels/test train/labels"
      ]
    },
    {
      "cell_type": "code",
      "execution_count": null,
      "metadata": {
        "colab": {
          "base_uri": "https://localhost:8080/"
        },
        "id": "7-cd-8Z72B_X",
        "outputId": "1c09c756-a38a-4203-d07e-a0cb72051bfe"
      },
      "outputs": [],
      "source": [
        "!ls train/images/train"
      ]
    },
    {
      "cell_type": "code",
      "execution_count": null,
      "metadata": {
        "id": "WOscLDYN8_OS"
      },
      "outputs": [],
      "source": [
        "!cp /content/drive/MyDrive/colab_export/omsk_forest/export/model_4/best.pt best.pt"
      ]
    },
    {
      "cell_type": "code",
      "execution_count": null,
      "metadata": {
        "colab": {
          "base_uri": "https://localhost:8080/"
        },
        "id": "AM5-zgne9PTB",
        "outputId": "6251300e-b546-488f-c9ae-6ad4e1dd483d"
      },
      "outputs": [],
      "source": [
        "!ls runs/train"
      ]
    },
    {
      "cell_type": "code",
      "execution_count": null,
      "metadata": {
        "colab": {
          "base_uri": "https://localhost:8080/"
        },
        "id": "SHPhyWbLvXyS",
        "outputId": "589612c0-2d4d-4184-bade-f8219e8afa8c"
      },
      "outputs": [],
      "source": [
        "!python train.py --batch 16 --epochs 5 --data forest.yaml --weights best.pt\n",
        "!cp -r runs/train/exp /content/drive/MyDrive/colab_export/omsk_forest/export/model_4/"
      ]
    },
    {
      "cell_type": "code",
      "execution_count": null,
      "metadata": {
        "id": "17udrzNExsBy"
      },
      "outputs": [],
      "source": [
        "!rm best.pt\n"
      ]
    },
    {
      "cell_type": "code",
      "execution_count": null,
      "metadata": {
        "id": "0WpjY44c9JZ7"
      },
      "outputs": [],
      "source": [
        "!cp /content/drive/MyDrive/colab_export/omsk_forest/export/model_4/exp/weights/best.pt best.pt"
      ]
    },
    {
      "cell_type": "code",
      "execution_count": null,
      "metadata": {
        "id": "U6H3haaK9Wf7"
      },
      "outputs": [],
      "source": []
    },
    {
      "cell_type": "code",
      "execution_count": null,
      "metadata": {
        "colab": {
          "background_save": true,
          "base_uri": "https://localhost:8080/"
        },
        "id": "XK3-OMGt9emm",
        "outputId": "6566eb11-6992-42c4-b944-fcee723efcb6"
      },
      "outputs": [],
      "source": [
        "!python train.py --batch 16 --epochs 6 --data forest.yaml --weights best.pt\n",
        "!cp -r runs/train/exp2 /content/drive/MyDrive/colab_export/omsk_forest/export/model_4/"
      ]
    },
    {
      "cell_type": "code",
      "execution_count": null,
      "metadata": {
        "id": "cCXcBeFf9uhx"
      },
      "outputs": [],
      "source": []
    }
  ],
  "metadata": {
    "accelerator": "GPU",
    "colab": {
      "collapsed_sections": [],
      "provenance": []
    },
    "gpuClass": "standard",
    "kernelspec": {
      "display_name": "Python 3 (ipykernel)",
      "language": "python",
      "name": "python3"
    },
    "language_info": {
      "codemirror_mode": {
        "name": "ipython",
        "version": 3
      },
      "file_extension": ".py",
      "mimetype": "text/x-python",
      "name": "python",
      "nbconvert_exporter": "python",
      "pygments_lexer": "ipython3",
      "version": "3.10.0"
    },
    "vscode": {
      "interpreter": {
        "hash": "bae4d6eca03054da3c74e7f51f87f340bf34a5355b1b767808a768c0c8aa4aa3"
      }
    }
  },
  "nbformat": 4,
  "nbformat_minor": 0
}
